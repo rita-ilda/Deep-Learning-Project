{
 "cells": [
  {
   "cell_type": "markdown",
   "metadata": {},
   "source": [
    "# Image Download Notebook"
   ]
  },
  {
   "cell_type": "markdown",
   "metadata": {},
   "source": [
    "#### This notebook includes the content necessary to extract the images from the text files that contain the respective URLs"
   ]
  },
  {
   "cell_type": "markdown",
   "metadata": {},
   "source": [
    "Catarina Candeias m20200656<br>\n",
    "Mohamed Elbawab m20201102<br>\n",
    "Rita Ferreira m20200661<br>\n",
    "Tiago Gonçalves m20201053<br>"
   ]
  },
  {
   "cell_type": "code",
   "execution_count": null,
   "metadata": {},
   "outputs": [],
   "source": [
    "from imutils import paths\n",
    "import argparse\n",
    "import requests\n",
    "import cv2\n",
    "import os\n",
    "import shutil\n",
    "import wget"
   ]
  },
  {
   "cell_type": "markdown",
   "metadata": {},
   "source": [
    "## Downloading Images of Cristo Rei"
   ]
  },
  {
   "cell_type": "code",
   "execution_count": null,
   "metadata": {
    "scrolled": true
   },
   "outputs": [],
   "source": [
    "i=1\n",
    "with open(\"urls_cristorei.txt\") as file:\n",
    "        for url in file:\n",
    "            ## Set up the image URL and filename\n",
    "            \n",
    "            image_url = url.replace('\\n','')\n",
    "            filename = \"cristorei\"+str(i)+\".jpg\"\n",
    "\n",
    "            # Open the url image, set stream to True, this will return the stream content.\n",
    "            r = requests.get(image_url, stream = True)\n",
    "\n",
    "            # Check if the image was retrieved successfully\n",
    "            if r.status_code == 200:\n",
    "                # Set decode_content value to True, otherwise the downloaded image file's size will be zero.\n",
    "                r.raw.decode_content = True\n",
    "\n",
    "                # Open a local file with wb ( write binary ) permission.\n",
    "                with open(filename,'wb') as f:\n",
    "                    shutil.copyfileobj(r.raw, f)\n",
    "\n",
    "                print('Image sucessfully Downloaded: ',filename)\n",
    "            else:\n",
    "                print('Image Couldn\\'t be retreived')\n",
    "\n",
    "        i+=1"
   ]
  },
  {
   "cell_type": "markdown",
   "metadata": {},
   "source": [
    "## Donwloading Images of Cristo Redentor"
   ]
  },
  {
   "cell_type": "code",
   "execution_count": null,
   "metadata": {},
   "outputs": [],
   "source": [
    "i=1\n",
    "with open(\"urls_cristoredentor.txt\") as file:\n",
    "        for url in file:\n",
    "            ## Set up the image URL and filename\n",
    "            \n",
    "            image_url = url.replace('\\n','')\n",
    "            filename = \"cristoredentor\"+str(i)+\".jpg\"\n",
    "\n",
    "            # Open the url image, set stream to True, this will return the stream content.\n",
    "            r = requests.get(image_url, stream = True)\n",
    "\n",
    "            # Check if the image was retrieved successfully\n",
    "            if r.status_code == 200:\n",
    "                # Set decode_content value to True, otherwise the downloaded image file's size will be zero.\n",
    "                r.raw.decode_content = True\n",
    "\n",
    "                # Open a local file with wb ( write binary ) permission.\n",
    "                with open(filename,'wb') as f:\n",
    "                    shutil.copyfileobj(r.raw, f)\n",
    "\n",
    "                print('Image sucessfully Downloaded: ',filename)\n",
    "            else:\n",
    "                print('Image Couldn\\'t be retreived')\n",
    "                \n",
    "            i+=1"
   ]
  },
  {
   "cell_type": "code",
   "execution_count": null,
   "metadata": {},
   "outputs": [],
   "source": []
  }
 ],
 "metadata": {
  "kernelspec": {
   "display_name": "Python 3",
   "language": "python",
   "name": "python3"
  },
  "language_info": {
   "codemirror_mode": {
    "name": "ipython",
    "version": 3
   },
   "file_extension": ".py",
   "mimetype": "text/x-python",
   "name": "python",
   "nbconvert_exporter": "python",
   "pygments_lexer": "ipython3",
   "version": "3.8.5"
  }
 },
 "nbformat": 4,
 "nbformat_minor": 4
}
